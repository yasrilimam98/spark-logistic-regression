{
  "nbformat": 4,
  "nbformat_minor": 0,
  "metadata": {
    "colab": {
      "name": "Tugas UAS 072-051 _pyMLib.ipynb",
      "provenance": [],
      "collapsed_sections": [],
      "toc_visible": true
    },
    "kernelspec": {
      "name": "python3",
      "display_name": "Python 3"
    }
  },
  "cells": [
    {
      "cell_type": "markdown",
      "metadata": {
        "id": "ymyEN-VNfBoM"
      },
      "source": [
        "# **Setting Spark**"
      ]
    },
    {
      "cell_type": "code",
      "metadata": {
        "id": "Y14yd_W8e24m"
      },
      "source": [
        "!apt-get install openjdk-8-jdk-headless -qq > /dev/null"
      ],
      "execution_count": null,
      "outputs": []
    },
    {
      "cell_type": "code",
      "metadata": {
        "colab": {
          "base_uri": "https://localhost:8080/"
        },
        "id": "n51BN5arfGAd",
        "outputId": "b70bd7a7-7ab9-4093-9097-77d901f73844"
      },
      "source": [
        "!wget --no-check-certificate \\\r\n",
        "    https://downloads.apache.org/spark/spark-3.0.1/spark-3.0.1-bin-hadoop2.7.tgz \\\r\n",
        "    -O /content/spark-2.4.4-bin-hadoop2.7.tgz"
      ],
      "execution_count": null,
      "outputs": [
        {
          "output_type": "stream",
          "text": [
            "--2021-01-17 06:55:28--  https://downloads.apache.org/spark/spark-3.0.1/spark-3.0.1-bin-hadoop2.7.tgz\n",
            "Resolving downloads.apache.org (downloads.apache.org)... 88.99.95.219, 2a01:4f8:10a:201a::2\n",
            "Connecting to downloads.apache.org (downloads.apache.org)|88.99.95.219|:443... connected.\n",
            "HTTP request sent, awaiting response... 200 OK\n",
            "Length: 219929956 (210M) [application/x-gzip]\n",
            "Saving to: ‘/content/spark-2.4.4-bin-hadoop2.7.tgz’\n",
            "\n",
            "/content/spark-2.4. 100%[===================>] 209.74M  25.7MB/s    in 8.9s    \n",
            "\n",
            "2021-01-17 06:55:38 (23.6 MB/s) - ‘/content/spark-2.4.4-bin-hadoop2.7.tgz’ saved [219929956/219929956]\n",
            "\n"
          ],
          "name": "stdout"
        }
      ]
    },
    {
      "cell_type": "code",
      "metadata": {
        "id": "lOEpWrIPfLZF"
      },
      "source": [
        "!tar xf spark-2.4.4-bin-hadoop2.7.tgz"
      ],
      "execution_count": null,
      "outputs": []
    },
    {
      "cell_type": "code",
      "metadata": {
        "id": "4h5l4fyofNBk"
      },
      "source": [
        "!pip install -q findspark"
      ],
      "execution_count": null,
      "outputs": []
    },
    {
      "cell_type": "code",
      "metadata": {
        "colab": {
          "base_uri": "https://localhost:8080/"
        },
        "id": "hhQZv_GdAIFJ",
        "outputId": "3e68715c-a3f5-4788-9397-5fd631114938"
      },
      "source": [
        "!pip install pyspark"
      ],
      "execution_count": null,
      "outputs": [
        {
          "output_type": "stream",
          "text": [
            "Collecting pyspark\n",
            "\u001b[?25l  Downloading https://files.pythonhosted.org/packages/f0/26/198fc8c0b98580f617cb03cb298c6056587b8f0447e20fa40c5b634ced77/pyspark-3.0.1.tar.gz (204.2MB)\n",
            "\u001b[K     |████████████████████████████████| 204.2MB 76kB/s \n",
            "\u001b[?25hCollecting py4j==0.10.9\n",
            "\u001b[?25l  Downloading https://files.pythonhosted.org/packages/9e/b6/6a4fb90cd235dc8e265a6a2067f2a2c99f0d91787f06aca4bcf7c23f3f80/py4j-0.10.9-py2.py3-none-any.whl (198kB)\n",
            "\u001b[K     |████████████████████████████████| 204kB 46.7MB/s \n",
            "\u001b[?25hBuilding wheels for collected packages: pyspark\n",
            "  Building wheel for pyspark (setup.py) ... \u001b[?25l\u001b[?25hdone\n",
            "  Created wheel for pyspark: filename=pyspark-3.0.1-py2.py3-none-any.whl size=204612242 sha256=6779294e50a1778db23505df529d60fd72e9b309a4744abab92a107b532f9e87\n",
            "  Stored in directory: /root/.cache/pip/wheels/5e/bd/07/031766ca628adec8435bb40f0bd83bb676ce65ff4007f8e73f\n",
            "Successfully built pyspark\n",
            "Installing collected packages: py4j, pyspark\n",
            "Successfully installed py4j-0.10.9 pyspark-3.0.1\n"
          ],
          "name": "stdout"
        }
      ]
    },
    {
      "cell_type": "code",
      "metadata": {
        "id": "arkeEb3xfOvt"
      },
      "source": [
        "import os\r\n",
        "os.environ[\"JAVA_HOME\"] = \"/usr/lib/jvm/java-8-openjdk-amd64\"\r\n",
        "os.environ[\"SPARK_HOME\"] = \"/content/spark-3.0.1-bin-hadoop2.7\""
      ],
      "execution_count": null,
      "outputs": []
    },
    {
      "cell_type": "code",
      "metadata": {
        "id": "40zHPu82fSYF"
      },
      "source": [
        "import findspark\r\n",
        "findspark.init(\"spark-3.0.1-bin-hadoop2.7\")"
      ],
      "execution_count": null,
      "outputs": []
    },
    {
      "cell_type": "code",
      "metadata": {
        "id": "dUOX2ywGfS3E"
      },
      "source": [
        "from pyspark import SparkContext\r\n",
        "sparkContext = SparkContext.getOrCreate()"
      ],
      "execution_count": null,
      "outputs": []
    },
    {
      "cell_type": "markdown",
      "metadata": {
        "id": "GgKPlI_1flyL"
      },
      "source": [
        "# **Input & Pre-Processing Data**"
      ]
    },
    {
      "cell_type": "code",
      "metadata": {
        "colab": {
          "base_uri": "https://localhost:8080/"
        },
        "id": "dILu_19Nfma7",
        "outputId": "574e2c92-086f-4dee-95eb-611dbfbb25b3"
      },
      "source": [
        "from __future__ import print_function\r\n",
        "\r\n",
        "import numpy as np\r\n",
        "import pandas as pd\r\n",
        "import matplotlib.pyplot as plt\r\n",
        "from mpl_toolkits.mplot3d import Axes3D\r\n",
        "from sklearn.datasets.samples_generator import make_blobs\r\n",
        "from pyspark import SparkContext\r\n",
        "from pyspark.ml.clustering import KMeans\r\n",
        "from pyspark.ml.feature import VectorAssembler\r\n",
        "from pyspark.sql import SQLContext\r\n",
        "import pyspark\r\n",
        "\r\n",
        "%matplotlib inline\r\n",
        "\r\n",
        "print (sparkContext.version)"
      ],
      "execution_count": null,
      "outputs": [
        {
          "output_type": "stream",
          "text": [
            "3.0.1\n"
          ],
          "name": "stdout"
        }
      ]
    },
    {
      "cell_type": "code",
      "metadata": {
        "id": "G0nWSYPNYh4r",
        "colab": {
          "base_uri": "https://localhost:8080/"
        },
        "outputId": "90868f44-a6e0-41c9-a5c1-a06bdf0cc2f9"
      },
      "source": [
        "from google.colab import drive\r\n",
        "drive.mount('/content/drive')\r\n",
        "!ls"
      ],
      "execution_count": null,
      "outputs": [
        {
          "output_type": "stream",
          "text": [
            "Mounted at /content/drive\n",
            "drive  sample_data  spark-2.4.4-bin-hadoop2.7.tgz  spark-3.0.1-bin-hadoop2.7\n"
          ],
          "name": "stdout"
        }
      ]
    },
    {
      "cell_type": "code",
      "metadata": {
        "id": "zK7aOJkWY8_z",
        "colab": {
          "base_uri": "https://localhost:8080/"
        },
        "outputId": "1e56b9f4-d05c-4daa-a9ed-102e908c9ba9"
      },
      "source": [
        "%cd /content/drive/MyDrive/ABD UAS/\r\n",
        "!ls"
      ],
      "execution_count": null,
      "outputs": [
        {
          "output_type": "stream",
          "text": [
            "/content/drive/MyDrive/ABD UAS\n",
            "dataset.csv\n"
          ],
          "name": "stdout"
        }
      ]
    },
    {
      "cell_type": "code",
      "metadata": {
        "colab": {
          "base_uri": "https://localhost:8080/",
          "height": 255
        },
        "id": "48w8ZleEf3eU",
        "outputId": "8d6c0b7b-bde8-470d-b8a0-38f85f7e6839"
      },
      "source": [
        "import pandas as pd\r\n",
        "import numpy as np\r\n",
        "import matplotlib.pyplot as plt\r\n",
        "\r\n",
        "data_dir = \"dataset.csv\"\r\n",
        "df = pd.read_csv(data_dir)\r\n",
        "\r\n",
        "df.head()"
      ],
      "execution_count": null,
      "outputs": [
        {
          "output_type": "execute_result",
          "data": {
            "text/html": [
              "<div>\n",
              "<style scoped>\n",
              "    .dataframe tbody tr th:only-of-type {\n",
              "        vertical-align: middle;\n",
              "    }\n",
              "\n",
              "    .dataframe tbody tr th {\n",
              "        vertical-align: top;\n",
              "    }\n",
              "\n",
              "    .dataframe thead th {\n",
              "        text-align: right;\n",
              "    }\n",
              "</style>\n",
              "<table border=\"1\" class=\"dataframe\">\n",
              "  <thead>\n",
              "    <tr style=\"text-align: right;\">\n",
              "      <th></th>\n",
              "      <th>id</th>\n",
              "      <th>Number of times pregnant</th>\n",
              "      <th>Plasma glucose concentration a 2 hours in an oral glucose tolerance test</th>\n",
              "      <th>Diastolic blood pressure (mm Hg)</th>\n",
              "      <th>Triceps skin fold thickness (mm)</th>\n",
              "      <th>2-Hour serum insulin (mu U/ml)</th>\n",
              "      <th>Body mass index (weight in kg/(height in m)^2)</th>\n",
              "      <th>Diabetes pedigree function</th>\n",
              "      <th>Age (years)</th>\n",
              "      <th>label</th>\n",
              "    </tr>\n",
              "  </thead>\n",
              "  <tbody>\n",
              "    <tr>\n",
              "      <th>0</th>\n",
              "      <td>1</td>\n",
              "      <td>6</td>\n",
              "      <td>148</td>\n",
              "      <td>72</td>\n",
              "      <td>35</td>\n",
              "      <td>0</td>\n",
              "      <td>33.6</td>\n",
              "      <td>0.627</td>\n",
              "      <td>50</td>\n",
              "      <td>1</td>\n",
              "    </tr>\n",
              "    <tr>\n",
              "      <th>1</th>\n",
              "      <td>2</td>\n",
              "      <td>1</td>\n",
              "      <td>85</td>\n",
              "      <td>66</td>\n",
              "      <td>29</td>\n",
              "      <td>0</td>\n",
              "      <td>26.6</td>\n",
              "      <td>0.351</td>\n",
              "      <td>31</td>\n",
              "      <td>0</td>\n",
              "    </tr>\n",
              "    <tr>\n",
              "      <th>2</th>\n",
              "      <td>3</td>\n",
              "      <td>8</td>\n",
              "      <td>183</td>\n",
              "      <td>64</td>\n",
              "      <td>0</td>\n",
              "      <td>0</td>\n",
              "      <td>23.3</td>\n",
              "      <td>0.672</td>\n",
              "      <td>32</td>\n",
              "      <td>1</td>\n",
              "    </tr>\n",
              "    <tr>\n",
              "      <th>3</th>\n",
              "      <td>4</td>\n",
              "      <td>1</td>\n",
              "      <td>89</td>\n",
              "      <td>66</td>\n",
              "      <td>23</td>\n",
              "      <td>94</td>\n",
              "      <td>28.1</td>\n",
              "      <td>0.167</td>\n",
              "      <td>21</td>\n",
              "      <td>0</td>\n",
              "    </tr>\n",
              "    <tr>\n",
              "      <th>4</th>\n",
              "      <td>5</td>\n",
              "      <td>0</td>\n",
              "      <td>137</td>\n",
              "      <td>40</td>\n",
              "      <td>35</td>\n",
              "      <td>168</td>\n",
              "      <td>43.1</td>\n",
              "      <td>2.288</td>\n",
              "      <td>33</td>\n",
              "      <td>1</td>\n",
              "    </tr>\n",
              "  </tbody>\n",
              "</table>\n",
              "</div>"
            ],
            "text/plain": [
              "   id  Number of times pregnant  ...  Age (years)  label\n",
              "0   1                         6  ...           50      1\n",
              "1   2                         1  ...           31      0\n",
              "2   3                         8  ...           32      1\n",
              "3   4                         1  ...           21      0\n",
              "4   5                         0  ...           33      1\n",
              "\n",
              "[5 rows x 10 columns]"
            ]
          },
          "metadata": {
            "tags": []
          },
          "execution_count": 13
        }
      ]
    },
    {
      "cell_type": "code",
      "metadata": {
        "colab": {
          "base_uri": "https://localhost:8080/"
        },
        "id": "dPQtbVHdoqVw",
        "outputId": "b27fdb5a-4d38-4d6b-da7f-c49b49bb4308"
      },
      "source": [
        "!ls"
      ],
      "execution_count": null,
      "outputs": [
        {
          "output_type": "stream",
          "text": [
            "dataset.csv\n"
          ],
          "name": "stdout"
        }
      ]
    },
    {
      "cell_type": "markdown",
      "metadata": {
        "id": "FPzUuN4JrQ_4"
      },
      "source": [
        "# **Read CSV to Spark data frame**"
      ]
    },
    {
      "cell_type": "code",
      "metadata": {
        "id": "V4cUsSw8AVPF"
      },
      "source": [
        "data_dir = \"dataset.csv\"\r\n",
        "data = pd.read_csv(data_dir)"
      ],
      "execution_count": null,
      "outputs": []
    },
    {
      "cell_type": "code",
      "metadata": {
        "id": "zLO8quuXnQA3"
      },
      "source": [
        "sqlContext = SQLContext(sparkContext)"
      ],
      "execution_count": null,
      "outputs": []
    },
    {
      "cell_type": "code",
      "metadata": {
        "id": "T4PAxMq52qyg"
      },
      "source": [
        "FEATURES_COL = df.columns[1:8].to_list()\r\n",
        "path = 'drive/MyDrive/ABD UAS/dataset.csv'"
      ],
      "execution_count": null,
      "outputs": []
    },
    {
      "cell_type": "code",
      "metadata": {
        "colab": {
          "base_uri": "https://localhost:8080/"
        },
        "id": "SDBrZqhNpAod",
        "outputId": "ef18283a-da60-4d7d-b5d6-1e0080cbf716"
      },
      "source": [
        "df = sqlContext.read.csv(path, header=True) \r\n",
        "df.show()"
      ],
      "execution_count": null,
      "outputs": [
        {
          "output_type": "stream",
          "text": [
            "+---+------------------------+------------------------------------------------------------------------+--------------------------------+---------------------------------+------------------------------+----------------------------------------------+--------------------------+-----------+-----+\n",
            "| id|Number of times pregnant|Plasma glucose concentration a 2 hours in an oral glucose tolerance test|Diastolic blood pressure (mm Hg)| Triceps skin fold thickness (mm)|2-Hour serum insulin (mu U/ml)|Body mass index (weight in kg/(height in m)^2)|Diabetes pedigree function|Age (years)|label|\n",
            "+---+------------------------+------------------------------------------------------------------------+--------------------------------+---------------------------------+------------------------------+----------------------------------------------+--------------------------+-----------+-----+\n",
            "|  1|                       6|                                                                     148|                              72|                               35|                             0|                                          33.6|                     0.627|         50|    1|\n",
            "|  2|                       1|                                                                      85|                              66|                               29|                             0|                                          26.6|                     0.351|         31|    0|\n",
            "|  3|                       8|                                                                     183|                              64|                                0|                             0|                                          23.3|                     0.672|         32|    1|\n",
            "|  4|                       1|                                                                      89|                              66|                               23|                            94|                                          28.1|                     0.167|         21|    0|\n",
            "|  5|                       0|                                                                     137|                              40|                               35|                           168|                                          43.1|                     2.288|         33|    1|\n",
            "|  6|                       5|                                                                     116|                              74|                                0|                             0|                                          25.6|                     0.201|         30|    0|\n",
            "|  7|                       3|                                                                      78|                              50|                               32|                            88|                                            31|                     0.248|         26|    1|\n",
            "|  8|                      10|                                                                     115|                               0|                                0|                             0|                                          35.3|                     0.134|         29|    0|\n",
            "|  9|                       2|                                                                     197|                              70|                               45|                           543|                                          30.5|                     0.158|         53|    1|\n",
            "| 10|                       8|                                                                     125|                              96|                                0|                             0|                                             0|                     0.232|         54|    1|\n",
            "| 11|                       4|                                                                     110|                              92|                                0|                             0|                                          37.6|                     0.191|         30|    0|\n",
            "| 12|                      10|                                                                     168|                              74|                                0|                             0|                                            38|                     0.537|         34|    1|\n",
            "| 13|                      10|                                                                     139|                              80|                                0|                             0|                                          27.1|                     1.441|         57|    0|\n",
            "| 14|                       1|                                                                     189|                              60|                               23|                           846|                                          30.1|                     0.398|         59|    1|\n",
            "| 15|                       5|                                                                     166|                              72|                               19|                           175|                                          25.8|                     0.587|         51|    1|\n",
            "| 16|                       7|                                                                     100|                               0|                                0|                             0|                                            30|                     0.484|         32|    1|\n",
            "| 17|                       0|                                                                     118|                              84|                               47|                           230|                                          45.8|                     0.551|         31|    1|\n",
            "| 18|                       7|                                                                     107|                              74|                                0|                             0|                                          29.6|                     0.254|         31|    1|\n",
            "| 19|                       1|                                                                     103|                              30|                               38|                            83|                                          43.3|                     0.183|         33|    0|\n",
            "| 20|                       1|                                                                     115|                              70|                               30|                            96|                                          34.6|                     0.529|         32|    1|\n",
            "+---+------------------------+------------------------------------------------------------------------+--------------------------------+---------------------------------+------------------------------+----------------------------------------------+--------------------------+-----------+-----+\n",
            "only showing top 20 rows\n",
            "\n"
          ],
          "name": "stdout"
        }
      ]
    },
    {
      "cell_type": "code",
      "metadata": {
        "colab": {
          "base_uri": "https://localhost:8080/"
        },
        "id": "QBokqXrFqUTt",
        "outputId": "0edb187a-33ab-4e03-c7ef-7cdca51a78ac"
      },
      "source": [
        "lines = sparkContext.textFile(path)\r\n",
        "data = lines.map(lambda line: line.split(\",\"))\r\n",
        "data.take(2)"
      ],
      "execution_count": null,
      "outputs": [
        {
          "output_type": "execute_result",
          "data": {
            "text/plain": [
              "[['id',\n",
              "  'Number of times pregnant',\n",
              "  'Plasma glucose concentration a 2 hours in an oral glucose tolerance test',\n",
              "  'Diastolic blood pressure (mm Hg)',\n",
              "  ' Triceps skin fold thickness (mm)',\n",
              "  '2-Hour serum insulin (mu U/ml)',\n",
              "  'Body mass index (weight in kg/(height in m)^2)',\n",
              "  'Diabetes pedigree function',\n",
              "  'Age (years)',\n",
              "  'label'],\n",
              " ['1', '6', '148', '72', '35', '0', '33.6', '0.627', '50', '1']]"
            ]
          },
          "metadata": {
            "tags": []
          },
          "execution_count": 19
        }
      ]
    },
    {
      "cell_type": "code",
      "metadata": {
        "colab": {
          "base_uri": "https://localhost:8080/"
        },
        "id": "feEcxu_QqtPv",
        "outputId": "df176d52-c674-4700-c84c-315a2478f369"
      },
      "source": [
        "df = data.toDF(df.columns)\r\n",
        "print (df)\r\n",
        "df.show()"
      ],
      "execution_count": null,
      "outputs": [
        {
          "output_type": "stream",
          "text": [
            "DataFrame[id: string, Number of times pregnant: string, Plasma glucose concentration a 2 hours in an oral glucose tolerance test: string, Diastolic blood pressure (mm Hg): string,  Triceps skin fold thickness (mm): string, 2-Hour serum insulin (mu U/ml): string, Body mass index (weight in kg/(height in m)^2): string, Diabetes pedigree function: string, Age (years): string, label: string]\n",
            "+---+------------------------+------------------------------------------------------------------------+--------------------------------+---------------------------------+------------------------------+----------------------------------------------+--------------------------+-----------+-----+\n",
            "| id|Number of times pregnant|Plasma glucose concentration a 2 hours in an oral glucose tolerance test|Diastolic blood pressure (mm Hg)| Triceps skin fold thickness (mm)|2-Hour serum insulin (mu U/ml)|Body mass index (weight in kg/(height in m)^2)|Diabetes pedigree function|Age (years)|label|\n",
            "+---+------------------------+------------------------------------------------------------------------+--------------------------------+---------------------------------+------------------------------+----------------------------------------------+--------------------------+-----------+-----+\n",
            "| id|    Number of times p...|                                                    Plasma glucose co...|            Diastolic blood p...|              Triceps skin fol...|          2-Hour serum insu...|                          Body mass index (...|      Diabetes pedigree...|Age (years)|label|\n",
            "|  1|                       6|                                                                     148|                              72|                               35|                             0|                                          33.6|                     0.627|         50|    1|\n",
            "|  2|                       1|                                                                      85|                              66|                               29|                             0|                                          26.6|                     0.351|         31|    0|\n",
            "|  3|                       8|                                                                     183|                              64|                                0|                             0|                                          23.3|                     0.672|         32|    1|\n",
            "|  4|                       1|                                                                      89|                              66|                               23|                            94|                                          28.1|                     0.167|         21|    0|\n",
            "|  5|                       0|                                                                     137|                              40|                               35|                           168|                                          43.1|                     2.288|         33|    1|\n",
            "|  6|                       5|                                                                     116|                              74|                                0|                             0|                                          25.6|                     0.201|         30|    0|\n",
            "|  7|                       3|                                                                      78|                              50|                               32|                            88|                                            31|                     0.248|         26|    1|\n",
            "|  8|                      10|                                                                     115|                               0|                                0|                             0|                                          35.3|                     0.134|         29|    0|\n",
            "|  9|                       2|                                                                     197|                              70|                               45|                           543|                                          30.5|                     0.158|         53|    1|\n",
            "| 10|                       8|                                                                     125|                              96|                                0|                             0|                                             0|                     0.232|         54|    1|\n",
            "| 11|                       4|                                                                     110|                              92|                                0|                             0|                                          37.6|                     0.191|         30|    0|\n",
            "| 12|                      10|                                                                     168|                              74|                                0|                             0|                                            38|                     0.537|         34|    1|\n",
            "| 13|                      10|                                                                     139|                              80|                                0|                             0|                                          27.1|                     1.441|         57|    0|\n",
            "| 14|                       1|                                                                     189|                              60|                               23|                           846|                                          30.1|                     0.398|         59|    1|\n",
            "| 15|                       5|                                                                     166|                              72|                               19|                           175|                                          25.8|                     0.587|         51|    1|\n",
            "| 16|                       7|                                                                     100|                               0|                                0|                             0|                                            30|                     0.484|         32|    1|\n",
            "| 17|                       0|                                                                     118|                              84|                               47|                           230|                                          45.8|                     0.551|         31|    1|\n",
            "| 18|                       7|                                                                     107|                              74|                                0|                             0|                                          29.6|                     0.254|         31|    1|\n",
            "| 19|                       1|                                                                     103|                              30|                               38|                            83|                                          43.3|                     0.183|         33|    0|\n",
            "+---+------------------------+------------------------------------------------------------------------+--------------------------------+---------------------------------+------------------------------+----------------------------------------------+--------------------------+-----------+-----+\n",
            "only showing top 20 rows\n",
            "\n"
          ],
          "name": "stdout"
        }
      ]
    },
    {
      "cell_type": "markdown",
      "metadata": {
        "id": "tm_Wbrc0rgZF"
      },
      "source": [
        "# **Convert data (toFloat)**"
      ]
    },
    {
      "cell_type": "code",
      "metadata": {
        "colab": {
          "base_uri": "https://localhost:8080/"
        },
        "id": "XfGB3H1RrlAF",
        "outputId": "5f546725-2f36-4d9a-a4ea-0f243083354c"
      },
      "source": [
        "df_feat = df.select(*(df[c].cast(\"float\").alias(c) for c in df.columns[1:8]))\r\n",
        "df_feat.show()"
      ],
      "execution_count": null,
      "outputs": [
        {
          "output_type": "stream",
          "text": [
            "+------------------------+------------------------------------------------------------------------+--------------------------------+---------------------------------+------------------------------+----------------------------------------------+--------------------------+\n",
            "|Number of times pregnant|Plasma glucose concentration a 2 hours in an oral glucose tolerance test|Diastolic blood pressure (mm Hg)| Triceps skin fold thickness (mm)|2-Hour serum insulin (mu U/ml)|Body mass index (weight in kg/(height in m)^2)|Diabetes pedigree function|\n",
            "+------------------------+------------------------------------------------------------------------+--------------------------------+---------------------------------+------------------------------+----------------------------------------------+--------------------------+\n",
            "|                    null|                                                                    null|                            null|                             null|                          null|                                          null|                      null|\n",
            "|                     6.0|                                                                   148.0|                            72.0|                             35.0|                           0.0|                                          33.6|                     0.627|\n",
            "|                     1.0|                                                                    85.0|                            66.0|                             29.0|                           0.0|                                          26.6|                     0.351|\n",
            "|                     8.0|                                                                   183.0|                            64.0|                              0.0|                           0.0|                                          23.3|                     0.672|\n",
            "|                     1.0|                                                                    89.0|                            66.0|                             23.0|                          94.0|                                          28.1|                     0.167|\n",
            "|                     0.0|                                                                   137.0|                            40.0|                             35.0|                         168.0|                                          43.1|                     2.288|\n",
            "|                     5.0|                                                                   116.0|                            74.0|                              0.0|                           0.0|                                          25.6|                     0.201|\n",
            "|                     3.0|                                                                    78.0|                            50.0|                             32.0|                          88.0|                                          31.0|                     0.248|\n",
            "|                    10.0|                                                                   115.0|                             0.0|                              0.0|                           0.0|                                          35.3|                     0.134|\n",
            "|                     2.0|                                                                   197.0|                            70.0|                             45.0|                         543.0|                                          30.5|                     0.158|\n",
            "|                     8.0|                                                                   125.0|                            96.0|                              0.0|                           0.0|                                           0.0|                     0.232|\n",
            "|                     4.0|                                                                   110.0|                            92.0|                              0.0|                           0.0|                                          37.6|                     0.191|\n",
            "|                    10.0|                                                                   168.0|                            74.0|                              0.0|                           0.0|                                          38.0|                     0.537|\n",
            "|                    10.0|                                                                   139.0|                            80.0|                              0.0|                           0.0|                                          27.1|                     1.441|\n",
            "|                     1.0|                                                                   189.0|                            60.0|                             23.0|                         846.0|                                          30.1|                     0.398|\n",
            "|                     5.0|                                                                   166.0|                            72.0|                             19.0|                         175.0|                                          25.8|                     0.587|\n",
            "|                     7.0|                                                                   100.0|                             0.0|                              0.0|                           0.0|                                          30.0|                     0.484|\n",
            "|                     0.0|                                                                   118.0|                            84.0|                             47.0|                         230.0|                                          45.8|                     0.551|\n",
            "|                     7.0|                                                                   107.0|                            74.0|                              0.0|                           0.0|                                          29.6|                     0.254|\n",
            "|                     1.0|                                                                   103.0|                            30.0|                             38.0|                          83.0|                                          43.3|                     0.183|\n",
            "+------------------------+------------------------------------------------------------------------+--------------------------------+---------------------------------+------------------------------+----------------------------------------------+--------------------------+\n",
            "only showing top 20 rows\n",
            "\n"
          ],
          "name": "stdout"
        }
      ]
    },
    {
      "cell_type": "code",
      "metadata": {
        "colab": {
          "base_uri": "https://localhost:8080/"
        },
        "id": "39hEl-Mjzj_H",
        "outputId": "28bdf8c6-554c-4508-ac85-c7cb76f53b54"
      },
      "source": [
        "for col in df.columns:\r\n",
        "    if col in FEATURES_COL:\r\n",
        "       # df = df.withColumn(col,df[col].cast('float'),\"label\", df.label.cast('numeric'))\r\n",
        "        df = df.withColumn(\"label\", df.label.cast('numeric'))\r\n",
        "df.show()"
      ],
      "execution_count": null,
      "outputs": [
        {
          "output_type": "stream",
          "text": [
            "+---+------------------------+------------------------------------------------------------------------+--------------------------------+---------------------------------+------------------------------+----------------------------------------------+--------------------------+-----------+-----+\n",
            "| id|Number of times pregnant|Plasma glucose concentration a 2 hours in an oral glucose tolerance test|Diastolic blood pressure (mm Hg)| Triceps skin fold thickness (mm)|2-Hour serum insulin (mu U/ml)|Body mass index (weight in kg/(height in m)^2)|Diabetes pedigree function|Age (years)|label|\n",
            "+---+------------------------+------------------------------------------------------------------------+--------------------------------+---------------------------------+------------------------------+----------------------------------------------+--------------------------+-----------+-----+\n",
            "|  1|                       6|                                                                     148|                              72|                               35|                             0|                                            34|                         1|         50|    1|\n",
            "|  2|                       1|                                                                      85|                              66|                               29|                             0|                                            27|                         0|         31|    0|\n",
            "|  3|                       8|                                                                     183|                              64|                                0|                             0|                                            23|                         1|         32|    1|\n",
            "|  4|                       1|                                                                      89|                              66|                               23|                            94|                                            28|                         0|         21|    0|\n",
            "|  5|                       0|                                                                     137|                              40|                               35|                           168|                                            43|                         2|         33|    1|\n",
            "|  6|                       5|                                                                     116|                              74|                                0|                             0|                                            26|                         0|         30|    0|\n",
            "|  7|                       3|                                                                      78|                              50|                               32|                            88|                                            31|                         0|         26|    1|\n",
            "|  8|                      10|                                                                     115|                               0|                                0|                             0|                                            35|                         0|         29|    0|\n",
            "|  9|                       2|                                                                     197|                              70|                               45|                           543|                                            31|                         0|         53|    1|\n",
            "| 10|                       8|                                                                     125|                              96|                                0|                             0|                                             0|                         0|         54|    1|\n",
            "| 11|                       4|                                                                     110|                              92|                                0|                             0|                                            38|                         0|         30|    0|\n",
            "| 12|                      10|                                                                     168|                              74|                                0|                             0|                                            38|                         1|         34|    1|\n",
            "| 13|                      10|                                                                     139|                              80|                                0|                             0|                                            27|                         1|         57|    0|\n",
            "| 14|                       1|                                                                     189|                              60|                               23|                           846|                                            30|                         0|         59|    1|\n",
            "| 15|                       5|                                                                     166|                              72|                               19|                           175|                                            26|                         1|         51|    1|\n",
            "| 16|                       7|                                                                     100|                               0|                                0|                             0|                                            30|                         0|         32|    1|\n",
            "| 17|                       0|                                                                     118|                              84|                               47|                           230|                                            46|                         1|         31|    1|\n",
            "| 18|                       7|                                                                     107|                              74|                                0|                             0|                                            30|                         0|         31|    1|\n",
            "| 19|                       1|                                                                     103|                              30|                               38|                            83|                                            43|                         0|         33|    0|\n",
            "| 20|                       1|                                                                     115|                              70|                               30|                            96|                                            35|                         1|         32|    1|\n",
            "+---+------------------------+------------------------------------------------------------------------+--------------------------------+---------------------------------+------------------------------+----------------------------------------------+--------------------------+-----------+-----+\n",
            "only showing top 20 rows\n",
            "\n"
          ],
          "name": "stdout"
        }
      ]
    },
    {
      "cell_type": "markdown",
      "metadata": {
        "id": "1CpRtQi5z6m3"
      },
      "source": [
        "# **Drop Null Value**"
      ]
    },
    {
      "cell_type": "code",
      "metadata": {
        "colab": {
          "base_uri": "https://localhost:8080/"
        },
        "id": "BwG9grxmz94Y",
        "outputId": "b9d392aa-02f6-4f83-fa98-2d7164b87f4f"
      },
      "source": [
        "df = df.na.drop()\r\n",
        "df.show()"
      ],
      "execution_count": null,
      "outputs": [
        {
          "output_type": "stream",
          "text": [
            "+---+------------------------+------------------------------------------------------------------------+--------------------------------+---------------------------------+------------------------------+----------------------------------------------+--------------------------+-----------+-----+\n",
            "| id|Number of times pregnant|Plasma glucose concentration a 2 hours in an oral glucose tolerance test|Diastolic blood pressure (mm Hg)| Triceps skin fold thickness (mm)|2-Hour serum insulin (mu U/ml)|Body mass index (weight in kg/(height in m)^2)|Diabetes pedigree function|Age (years)|label|\n",
            "+---+------------------------+------------------------------------------------------------------------+--------------------------------+---------------------------------+------------------------------+----------------------------------------------+--------------------------+-----------+-----+\n",
            "|  1|                       6|                                                                     148|                              72|                               35|                             0|                                            34|                         1|         50|    1|\n",
            "|  2|                       1|                                                                      85|                              66|                               29|                             0|                                            27|                         0|         31|    0|\n",
            "|  3|                       8|                                                                     183|                              64|                                0|                             0|                                            23|                         1|         32|    1|\n",
            "|  4|                       1|                                                                      89|                              66|                               23|                            94|                                            28|                         0|         21|    0|\n",
            "|  5|                       0|                                                                     137|                              40|                               35|                           168|                                            43|                         2|         33|    1|\n",
            "|  6|                       5|                                                                     116|                              74|                                0|                             0|                                            26|                         0|         30|    0|\n",
            "|  7|                       3|                                                                      78|                              50|                               32|                            88|                                            31|                         0|         26|    1|\n",
            "|  8|                      10|                                                                     115|                               0|                                0|                             0|                                            35|                         0|         29|    0|\n",
            "|  9|                       2|                                                                     197|                              70|                               45|                           543|                                            31|                         0|         53|    1|\n",
            "| 10|                       8|                                                                     125|                              96|                                0|                             0|                                             0|                         0|         54|    1|\n",
            "| 11|                       4|                                                                     110|                              92|                                0|                             0|                                            38|                         0|         30|    0|\n",
            "| 12|                      10|                                                                     168|                              74|                                0|                             0|                                            38|                         1|         34|    1|\n",
            "| 13|                      10|                                                                     139|                              80|                                0|                             0|                                            27|                         1|         57|    0|\n",
            "| 14|                       1|                                                                     189|                              60|                               23|                           846|                                            30|                         0|         59|    1|\n",
            "| 15|                       5|                                                                     166|                              72|                               19|                           175|                                            26|                         1|         51|    1|\n",
            "| 16|                       7|                                                                     100|                               0|                                0|                             0|                                            30|                         0|         32|    1|\n",
            "| 17|                       0|                                                                     118|                              84|                               47|                           230|                                            46|                         1|         31|    1|\n",
            "| 18|                       7|                                                                     107|                              74|                                0|                             0|                                            30|                         0|         31|    1|\n",
            "| 19|                       1|                                                                     103|                              30|                               38|                            83|                                            43|                         0|         33|    0|\n",
            "| 20|                       1|                                                                     115|                              70|                               30|                            96|                                            35|                         1|         32|    1|\n",
            "+---+------------------------+------------------------------------------------------------------------+--------------------------------+---------------------------------+------------------------------+----------------------------------------------+--------------------------+-----------+-----+\n",
            "only showing top 20 rows\n",
            "\n"
          ],
          "name": "stdout"
        }
      ]
    },
    {
      "cell_type": "code",
      "metadata": {
        "colab": {
          "base_uri": "https://localhost:8080/"
        },
        "id": "buMBYzSM1g5s",
        "outputId": "297c8ffa-e06f-414d-9742-8ce5f6090fbe"
      },
      "source": [
        "vecAssembler = VectorAssembler(inputCols=FEATURES_COL, outputCol=\"features\")\r\n",
        "df_logistic = vecAssembler.transform(df).select('label', 'features')\r\n",
        "df_logistic.show()"
      ],
      "execution_count": null,
      "outputs": [
        {
          "output_type": "stream",
          "text": [
            "+-----+--------------------+\n",
            "|label|            features|\n",
            "+-----+--------------------+\n",
            "|    1|[6.0,148.0,72.0,3...|\n",
            "|    0|[1.0,85.0,66.0,29...|\n",
            "|    1|[8.0,183.0,64.0,0...|\n",
            "|    0|[1.0,89.0,66.0,23...|\n",
            "|    1|[0.0,137.0,40.0,3...|\n",
            "|    0|[5.0,116.0,74.0,0...|\n",
            "|    1|[3.0,78.0,50.0,32...|\n",
            "|    0|(7,[0,1,5],[10.0,...|\n",
            "|    1|[2.0,197.0,70.0,4...|\n",
            "|    1|(7,[0,1,2],[8.0,1...|\n",
            "|    0|[4.0,110.0,92.0,0...|\n",
            "|    1|[10.0,168.0,74.0,...|\n",
            "|    0|[10.0,139.0,80.0,...|\n",
            "|    1|[1.0,189.0,60.0,2...|\n",
            "|    1|[5.0,166.0,72.0,1...|\n",
            "|    1|(7,[0,1,5],[7.0,1...|\n",
            "|    1|[0.0,118.0,84.0,4...|\n",
            "|    1|[7.0,107.0,74.0,0...|\n",
            "|    0|[1.0,103.0,30.0,3...|\n",
            "|    1|[1.0,115.0,70.0,3...|\n",
            "+-----+--------------------+\n",
            "only showing top 20 rows\n",
            "\n"
          ],
          "name": "stdout"
        }
      ]
    },
    {
      "cell_type": "markdown",
      "metadata": {
        "id": "mDtGUTfYw0u0"
      },
      "source": [
        "**SPLITTING DATASET**"
      ]
    },
    {
      "cell_type": "code",
      "metadata": {
        "id": "DtJ4EOnYymRh"
      },
      "source": [
        "data_train, data_test=df_logistic.randomSplit([0.8,0.2], 24)"
      ],
      "execution_count": null,
      "outputs": []
    },
    {
      "cell_type": "code",
      "metadata": {
        "id": "tglK3KlUy4XT"
      },
      "source": [
        ""
      ],
      "execution_count": null,
      "outputs": []
    },
    {
      "cell_type": "markdown",
      "metadata": {
        "id": "L06zGXgRy5vf"
      },
      "source": [
        "**MODELING**"
      ]
    },
    {
      "cell_type": "code",
      "metadata": {
        "id": "v_N70KdUzXgh"
      },
      "source": [
        "from pyspark.ml.classification import LogisticRegression"
      ],
      "execution_count": null,
      "outputs": []
    },
    {
      "cell_type": "code",
      "metadata": {
        "id": "K_ymDC3Yy-55"
      },
      "source": [
        "lr=LogisticRegression(featuresCol='features', labelCol='label')\r\n",
        "lr_model = lr.fit(data_train)\r\n",
        "\r\n",
        "#Transform model to data test\r\n",
        "lr_result = lr_model.transform(data_test)"
      ],
      "execution_count": null,
      "outputs": []
    },
    {
      "cell_type": "code",
      "metadata": {
        "id": "TJG4UYQSzAXd",
        "colab": {
          "base_uri": "https://localhost:8080/"
        },
        "outputId": "0e12ac35-e37f-4bd6-e908-3d680e1e4d7d"
      },
      "source": [
        "#view id, label, prediction and probability from result of modelling\r\n",
        "lr_result.select('label', 'prediction', 'probability').show(5)"
      ],
      "execution_count": null,
      "outputs": [
        {
          "output_type": "stream",
          "text": [
            "+-----+----------+--------------------+\n",
            "|label|prediction|         probability|\n",
            "+-----+----------+--------------------+\n",
            "|    0|       0.0|[0.93331400166612...|\n",
            "|    0|       0.0|[0.91797488997918...|\n",
            "|    0|       0.0|[0.67829077120461...|\n",
            "|    0|       0.0|[0.93443022463795...|\n",
            "|    0|       1.0|[0.39032984046243...|\n",
            "+-----+----------+--------------------+\n",
            "only showing top 5 rows\n",
            "\n"
          ],
          "name": "stdout"
        }
      ]
    },
    {
      "cell_type": "markdown",
      "metadata": {
        "id": "jq0NXEwtzG5N"
      },
      "source": [
        "***EVALUATION***"
      ]
    },
    {
      "cell_type": "code",
      "metadata": {
        "id": "yG3hYUZ-OeW1"
      },
      "source": [
        "from pyspark.ml.evaluation import BinaryClassificationEvaluator, MulticlassClassificationEvaluator"
      ],
      "execution_count": null,
      "outputs": []
    },
    {
      "cell_type": "code",
      "metadata": {
        "id": "o4coPTj9zKgV",
        "colab": {
          "base_uri": "https://localhost:8080/"
        },
        "outputId": "37d56079-dd08-436b-db8a-7ff6ebabae65"
      },
      "source": [
        "#Evaluate model by checking accuracy and AUC value\r\n",
        "lr_eval = BinaryClassificationEvaluator(rawPredictionCol=\"probability\", labelCol=\"label\")\r\n",
        "lr_eval2= MulticlassClassificationEvaluator(predictionCol=\"prediction\", labelCol=\"label\")\r\n",
        "lr_AUC  = lr_eval.evaluate(lr_result)\r\n",
        "lr_ACC  = lr_eval2.evaluate(lr_result, {lr_eval2.metricName:\"accuracy\"})\r\n",
        "\r\n",
        "print(\"Logistic Regression Performance Measure\")\r\n",
        "print(\"Accuracy = %0.2f\" % lr_ACC)\r\n",
        "print(\"AUC = %.2f\" % lr_AUC)"
      ],
      "execution_count": null,
      "outputs": [
        {
          "output_type": "stream",
          "text": [
            "Logistic Regression Performance Measure\n",
            "Accuracy = 0.75\n",
            "AUC = 0.87\n"
          ],
          "name": "stdout"
        }
      ]
    }
  ]
}